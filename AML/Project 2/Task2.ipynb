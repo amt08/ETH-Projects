{
 "cells": [
  {
   "cell_type": "code",
   "execution_count": null,
   "id": "83b50c3b",
   "metadata": {},
   "outputs": [],
   "source": [
    "import pandas as pd\n",
    "import numpy as np\n",
    "import matplotlib.pyplot as plt\n",
    "from sklearn.model_selection import train_test_split\n",
    "from xgboost import XGBClassifier\n",
    "from sklearn.model_selection import StratifiedKFold, GridSearchCV\n",
    "from sklearn.metrics import f1_score\n",
    "from sklearn import svm\n",
    "from sklearn.utils.class_weight import compute_sample_weight\n",
    "import seaborn as sns\n",
    "import neurokit2 as nk\n",
    "from tqdm import tqdm\n",
    "from scipy import mean, count_nonzero\n",
    "from biosppy.signals import ecg\n",
    "import warnings\n",
    "import pprint\n",
    "import biosppy\n",
    "import pywt\n",
    "warnings.filterwarnings(\"ignore\")\n",
    "np.random.seed(1234)\n",
    "rnd = 1234"
   ]
  },
  {
   "cell_type": "markdown",
   "id": "0f9c6c44",
   "metadata": {},
   "source": [
    "## Read Data"
   ]
  },
  {
   "cell_type": "code",
   "execution_count": null,
   "id": "2925a856",
   "metadata": {},
   "outputs": [],
   "source": [
    "X = pd.read_csv('X_train.csv')\n",
    "test = pd.read_csv('X_test.csv')\n",
    "y = pd.read_csv('y_train.csv')\n",
    "\n",
    "test_ids = test['id']\n",
    "X.drop(columns='id', inplace=True)\n",
    "y.drop(columns='id', inplace=True)\n",
    "test.drop(columns='id', inplace=True)"
   ]
  },
  {
   "cell_type": "markdown",
   "id": "9d9a72be",
   "metadata": {},
   "source": [
    "## Clean raw ecg"
   ]
  },
  {
   "cell_type": "code",
   "execution_count": null,
   "id": "21a6131a",
   "metadata": {},
   "outputs": [],
   "source": [
    "X_clean = [item[~np.isnan(item)] for item in X.values]\n",
    "\n",
    "def clean_raw_ecg(ecg_raw):\n",
    "    return nk.ecg_clean(ecg_raw, sampling_rate=300, method=\"neurokit\")\n",
    "\n",
    "X_ecg = list(map(clean_raw_ecg, X_clean))"
   ]
  },
  {
   "cell_type": "markdown",
   "id": "76f52e55",
   "metadata": {},
   "source": [
    "## Create features"
   ]
  },
  {
   "cell_type": "markdown",
   "id": "9f2cd0e1",
   "metadata": {},
   "source": [
    "### R peaks and heartbeat stats"
   ]
  },
  {
   "cell_type": "code",
   "execution_count": null,
   "id": "3e6d15d2",
   "metadata": {},
   "outputs": [],
   "source": [
    "r_peaks = []\n",
    "mean_heart = []\n",
    "std_heart = []\n",
    "median_heart = []\n",
    "for idx, signal in tqdm(enumerate(X_ecg)):\n",
    "    _, _, peak, _, templates, _, _ = ecg.ecg(signal=signal, sampling_rate=300, show=False)\n",
    "    r_peaks.append(peak)\n",
    "    mean_heart.append(np.mean(templates, axis=0))\n",
    "    std_heart.append(np.std(templates, axis=0))\n",
    "    median_heart.append(np.median(templates, axis=0))"
   ]
  },
  {
   "cell_type": "code",
   "execution_count": null,
   "id": "645c0b42",
   "metadata": {},
   "outputs": [],
   "source": [
    "# collect into one numpy array the above lists\n",
    "mean_heart_full = np.vstack(mean_heart)\n",
    "std_heart_full = np.vstack(std_heart)\n",
    "median_heart_full = np.vstack(median_heart)"
   ]
  },
  {
   "cell_type": "code",
   "execution_count": null,
   "id": "c1e8b7f3",
   "metadata": {},
   "outputs": [],
   "source": [
    "# extract values of the respective locations of the R-peaks identified\n",
    "peak_values = []\n",
    "for idx, val in enumerate(X_ecg):\n",
    "    peaks = np.array(r_peaks[idx])\n",
    "    peak_values.append((np.array(X_ecg[idx][peaks])))        "
   ]
  },
  {
   "cell_type": "code",
   "execution_count": null,
   "id": "579d06cc",
   "metadata": {},
   "outputs": [],
   "source": [
    "# extract stats about the r-peaks\n",
    "rpeakmean = np.array([item.mean() for item in peak_values])\n",
    "rpeakmedian = np.array([np.median(item) for item in peak_values])\n",
    "rpeakmstd = np.array([item.std() for item in peak_values])\n",
    "rpeakmax = np.array([item.max() for item in peak_values])\n",
    "rpeakmin = np.array([item.min() for item in peak_values])"
   ]
  },
  {
   "cell_type": "code",
   "execution_count": null,
   "id": "8d5193bd",
   "metadata": {},
   "outputs": [],
   "source": [
    "# extract features related to heartbeat\n",
    "mean_h = np.median(mean_heart_full, axis=1)\n",
    "std_h = np.median(std_heart_full, axis=1)\n",
    "median_h = np.median(median_heart_full, axis=1)\n",
    "max_mean_h = np.max(mean_heart_full, axis = 1)\n",
    "min_mean_h = np.min(mean_heart_full, axis = 1)\n",
    "max_std_h = np.max(std_heart_full, axis = 1)\n",
    "min_std_h = np.min(std_heart_full, axis = 1)"
   ]
  },
  {
   "cell_type": "markdown",
   "id": "e630db66",
   "metadata": {},
   "source": [
    "### Heart rate variabilty time domain stats"
   ]
  },
  {
   "cell_type": "code",
   "execution_count": null,
   "id": "7bbc4fe1",
   "metadata": {},
   "outputs": [],
   "source": [
    "hrv_time_domain = pd.DataFrame(nk.hrv_time(r_peaks[0], sampling_rate=300))\n",
    "idx_list = []\n",
    "for idx, peak in enumerate(r_peaks[1:]):\n",
    "    hrv_time_domain = pd.concat([hrv_time_domain, nk.hrv_time(peak, sampling_rate=300)])\n",
    "\n",
    "hrv_time_domain = hrv_time_domain.dropna(axis=1)\n",
    "hrv_time_domain = np.array(hrv_time_domain)"
   ]
  },
  {
   "cell_type": "code",
   "execution_count": null,
   "id": "16b7f2e6",
   "metadata": {},
   "outputs": [],
   "source": [
    "## heartrate\n",
    "heart_rate_mean = []\n",
    "heart_rate_std = []\n",
    "heart_rate_median = []\n",
    "for idx, signal in tqdm(enumerate(X_ecg)):\n",
    "    _, _, _, _, _, _, heart_rate = ecg.ecg(signal=signal, sampling_rate=300, show=False)\n",
    "    heart_rate_mean.append(np.mean(heart_rate))\n",
    "    heart_rate_std.append(np.std(heart_rate))\n",
    "    heart_rate_median.append(np.median(heart_rate))"
   ]
  },
  {
   "cell_type": "code",
   "execution_count": null,
   "id": "52370345",
   "metadata": {},
   "outputs": [],
   "source": [
    "heart_rate_mean = np.array(heart_rate_mean)\n",
    "heart_rate_std = np.array(heart_rate_std)\n",
    "heart_rate_median = np.array(heart_rate_median)"
   ]
  },
  {
   "cell_type": "markdown",
   "id": "c3e9f52f",
   "metadata": {},
   "source": [
    "### Peaks of ECG"
   ]
  },
  {
   "cell_type": "code",
   "execution_count": null,
   "id": "505893cf",
   "metadata": {},
   "outputs": [],
   "source": [
    "p_peaks = []\n",
    "q_peaks = []\n",
    "rpeaks = []\n",
    "s_peaks = []\n",
    "t_peaks = []\n",
    "\n",
    "for i in range(mean_heart_full.shape[0]):\n",
    "    heart = mean_heart_full[i]\n",
    "    r_idx = np.argmax(heart)\n",
    "    rrpeak = heart[r_idx]\n",
    "\n",
    "    q_idx = r_idx - np.where((np.diff(heart[:r_idx][::-1]) < 0) == False)[0][0]\n",
    "    q_peak = heart[q_idx]\n",
    "\n",
    "    p_idx = np.argmax(heart[:q_idx])\n",
    "    p_peak = heart[p_idx]\n",
    "\n",
    "    s_idx = np.where((np.diff(heart[r_idx:]) < 0) == False)[0][0] + r_idx\n",
    "    s_peak = heart[s_idx]\n",
    "\n",
    "    t_idx = np.argmax(heart[s_idx:]) + s_idx\n",
    "    t_peak = heart[t_idx]\n",
    "    \n",
    "    p_peaks.append(p_peak)\n",
    "    q_peaks.append(q_peak)\n",
    "    rpeaks.append(rrpeak)\n",
    "    s_peaks.append(s_peak)\n",
    "    t_peaks.append(t_peak)"
   ]
  },
  {
   "cell_type": "code",
   "execution_count": null,
   "id": "553e62e8",
   "metadata": {},
   "outputs": [],
   "source": [
    "## PR, QRS, ST interval / segment\n",
    "pr = []\n",
    "qrs = []\n",
    "st = []\n",
    "\n",
    "for i in range(len(rpeaks)):\n",
    "    pr.append(rpeaks[i] - p_peaks[i])\n",
    "    qrs.append(s_peaks[i] - q_peaks[i])\n",
    "    st.append(t_peaks[i] - s_peaks[i])"
   ]
  },
  {
   "cell_type": "code",
   "execution_count": null,
   "id": "4e7ca481",
   "metadata": {},
   "outputs": [],
   "source": [
    "# to numpy\n",
    "rpeaks = np.array(rpeaks)\n",
    "p_peaks = np.array(p_peaks)\n",
    "q_peaks = np.array(q_peaks)\n",
    "t_peaks = np.array(t_peaks)\n",
    "s_peaks = np.array(s_peaks)\n",
    "pr = np.array(pr)\n",
    "qrs = np.array(qrs)\n",
    "st = np.array(st)"
   ]
  },
  {
   "cell_type": "markdown",
   "id": "ac09e09c",
   "metadata": {},
   "source": [
    "### Wavelet transform"
   ]
  },
  {
   "cell_type": "code",
   "execution_count": null,
   "id": "c8b35d14",
   "metadata": {},
   "outputs": [],
   "source": [
    "A_list = []\n",
    "D_list = []\n",
    "\n",
    "for i in range(len(mean_heart_full)):\n",
    "    A, D = pywt.dwt(mean_heart_full[i], 'db2', mode='periodic')\n",
    "    A_list.append(A)\n",
    "    D_list.append(D)\n",
    "    \n",
    "A_list = np.array(A_list)\n",
    "D_list = np.array(D_list)"
   ]
  },
  {
   "cell_type": "markdown",
   "id": "94bf88a9",
   "metadata": {},
   "source": [
    "## Gather all features"
   ]
  },
  {
   "cell_type": "code",
   "execution_count": null,
   "id": "7e478080",
   "metadata": {},
   "outputs": [],
   "source": [
    "X_features = np.column_stack((rpeakmean, rpeakmstd, rpeakmedian, rpeakmax, rpeakmin, mean_h, std_h, median_h,\n",
    "                              max_mean_h, min_mean_h, max_std_h, min_std_h, heart_rate_mean, heart_rate_std,\n",
    "                              heart_rate_median, rpeaks, p_peaks, q_peaks, s_peaks, t_peaks, pr, qrs, st,\n",
    "                              hrv_time_domain, A_list, D_list))"
   ]
  },
  {
   "cell_type": "markdown",
   "id": "8280bbc4",
   "metadata": {},
   "source": [
    "## Split data"
   ]
  },
  {
   "cell_type": "code",
   "execution_count": null,
   "id": "26ce3c05",
   "metadata": {},
   "outputs": [],
   "source": [
    "X_train, X_val, y_train, y_val = train_test_split(X_features, y, test_size=0.1, random_state=rnd, stratify=y['y'])"
   ]
  },
  {
   "cell_type": "markdown",
   "id": "2c751fa7",
   "metadata": {},
   "source": [
    "## Model"
   ]
  },
  {
   "cell_type": "code",
   "execution_count": null,
   "id": "ce076f4c",
   "metadata": {},
   "outputs": [],
   "source": [
    "xgbc = XGBClassifier(seed = rnd, n_jobs=-1, eval_metric='mlogloss', objective='multi:softmax', num_class=4)\n",
    "xgb_grid = {'max_depth': [6], \n",
    "            'n_estimators': [500],\n",
    "            'reg_lambda': [10],\n",
    "            'eta': [0.03],\n",
    "            'reg_alpha': [2],\n",
    "            'min_child_weight': [4]\n",
    "           }"
   ]
  },
  {
   "cell_type": "code",
   "execution_count": null,
   "id": "cc8ef58a",
   "metadata": {},
   "outputs": [],
   "source": [
    "X_train_std = (X_train - X_train.mean(axis=0)) / X_train.std(axis=0)\n",
    "X_val_std = (X_val - X_val.mean(axis=0)) / X_val.std(axis=0)\n",
    "X_features_std = (X_features - X_features.mean(axis=0)) / X_features.std(axis=0)"
   ]
  },
  {
   "cell_type": "code",
   "execution_count": null,
   "id": "792e76af",
   "metadata": {},
   "outputs": [],
   "source": [
    "gcv = GridSearchCV(xgbc, xgb_grid, cv=3, scoring='f1_micro', n_jobs=1,\n",
    "                   verbose=10)\n",
    "\n",
    "np.random.seed(rnd)\n",
    "# gcv.fit(X_train_std, y_train) \n",
    "gcv.fit(X_features_std, y)"
   ]
  },
  {
   "cell_type": "code",
   "execution_count": null,
   "id": "3b311eda",
   "metadata": {},
   "outputs": [],
   "source": [
    "gcv.best_score_, gcv.best_params_"
   ]
  },
  {
   "cell_type": "code",
   "execution_count": null,
   "id": "098646cb",
   "metadata": {},
   "outputs": [],
   "source": [
    "y_pred_train = gcv.predict(X_train_std)\n",
    "y_pred_val = gcv.predict(X_val_std)"
   ]
  },
  {
   "cell_type": "code",
   "execution_count": null,
   "id": "0372cfc6",
   "metadata": {},
   "outputs": [],
   "source": [
    "# train\n",
    "f1_score(y_train, y_pred_train, average='micro')\n",
    "# val\n",
    "f1_score(y_val, y_pred_val, average='micro')"
   ]
  },
  {
   "cell_type": "markdown",
   "id": "70b17c8b",
   "metadata": {},
   "source": [
    "## Test"
   ]
  },
  {
   "cell_type": "markdown",
   "id": "caa7675e",
   "metadata": {},
   "source": [
    "### Same feature extraction as above"
   ]
  },
  {
   "cell_type": "code",
   "execution_count": null,
   "id": "596ac246",
   "metadata": {},
   "outputs": [],
   "source": [
    "test_clean = [item[~np.isnan(item)] for item in test.values]\n",
    "test_ecg = list(map(clean_raw_ecg, test_clean))"
   ]
  },
  {
   "cell_type": "code",
   "execution_count": null,
   "id": "96293beb",
   "metadata": {},
   "outputs": [],
   "source": [
    "# extract rpeaks and heartbeat stats\n",
    "r_peaks_test = []\n",
    "mean_hear_t = []\n",
    "std_hear_t = []\n",
    "median_hear_t = []\n",
    "for idx, signal in tqdm(enumerate(test_ecg)):\n",
    "    _, _, peak, _, templates, _, _ = ecg.ecg(signal=signal, sampling_rate=300, show=False)\n",
    "    r_peaks_test.append(peak)\n",
    "    mean_hear_t.append(np.mean(templates, axis=0))\n",
    "    std_hear_t.append(np.std(templates, axis=0))\n",
    "    median_hear_t.append(np.median(templates, axis=0))"
   ]
  },
  {
   "cell_type": "code",
   "execution_count": null,
   "id": "aefebf3b",
   "metadata": {},
   "outputs": [],
   "source": [
    "mean_heart_test = np.vstack(mean_hear_t)\n",
    "std_heart_test = np.vstack(std_hear_t)\n",
    "median_heart_test = np.vstack(median_hear_t)"
   ]
  },
  {
   "cell_type": "code",
   "execution_count": null,
   "id": "af8040ec",
   "metadata": {},
   "outputs": [],
   "source": [
    "peak_values_test = []\n",
    "for idx, val in enumerate(test_ecg):\n",
    "    peakst = np.array(r_peaks_test[idx])\n",
    "    peak_values_test.append((np.array(test_ecg[idx][peakst])))        "
   ]
  },
  {
   "cell_type": "code",
   "execution_count": null,
   "id": "69662823",
   "metadata": {},
   "outputs": [],
   "source": [
    "# extract stats about the r-peaks\n",
    "rpeak_mean = np.array([item.mean() for item in peak_values_test])\n",
    "rpeak_median = np.array([np.median(item) for item in peak_values_test])\n",
    "rpeakm_std = np.array([item.std() for item in peak_values_test])\n",
    "rpeak_max = np.array([item.max() for item in peak_values_test])\n",
    "rpeak_min = np.array([item.min() for item in peak_values_test])"
   ]
  },
  {
   "cell_type": "code",
   "execution_count": null,
   "id": "dce17623",
   "metadata": {},
   "outputs": [],
   "source": [
    "# extract features related to heartbeat\n",
    "meanh = np.median(mean_heart_test, axis=1)\n",
    "stdh = np.median(std_heart_test, axis=1)\n",
    "medianh = np.median(median_heart_test, axis=1)\n",
    "max_meanh = np.max(mean_heart_test, axis = 1)\n",
    "min_meanh = np.min(mean_heart_test, axis = 1)\n",
    "max_stdh = np.max(std_heart_test, axis = 1)\n",
    "min_stdh = np.min(std_heart_test, axis = 1)"
   ]
  },
  {
   "cell_type": "code",
   "execution_count": null,
   "id": "33cb5034",
   "metadata": {},
   "outputs": [],
   "source": [
    "hrv_time_domain_test = pd.DataFrame(nk.hrv_time(r_peaks_test[0], sampling_rate=300))\n",
    "idx_list = []\n",
    "for idx, peak in enumerate(r_peaks_test[1:]):\n",
    "    hrv_time_domain_test = pd.concat([hrv_time_domain_test, nk.hrv_time(peak, sampling_rate=300)])\n",
    "\n",
    "hrv_time_domain_test = hrv_time_domain_test.dropna(axis=1)\n",
    "hrv_time_domain_test = np.array(hrv_time_domain_test)"
   ]
  },
  {
   "cell_type": "code",
   "execution_count": null,
   "id": "531cee2e",
   "metadata": {},
   "outputs": [],
   "source": [
    "## heartrate\n",
    "heart_rate_mean_test = []\n",
    "heart_rate_std_test = []\n",
    "heart_rate_median_test = []\n",
    "for idx, signal in tqdm(enumerate(test_ecg)):\n",
    "    _, _, _, _, _, _, heart_rate = ecg.ecg(signal=signal, sampling_rate=300, show=False)\n",
    "    heart_rate_mean_test.append(np.mean(heart_rate))\n",
    "    heart_rate_std_test.append(np.std(heart_rate))\n",
    "    heart_rate_median_test.append(np.median(heart_rate))"
   ]
  },
  {
   "cell_type": "code",
   "execution_count": null,
   "id": "fb0f66dd",
   "metadata": {},
   "outputs": [],
   "source": [
    "heart_rate_mean_test = np.array(heart_rate_mean_test)\n",
    "heart_rate_std_test = np.array(heart_rate_std_test)\n",
    "heart_rate_median_test = np.array(heart_rate_median_test)"
   ]
  },
  {
   "cell_type": "code",
   "execution_count": null,
   "id": "dc0e59d3",
   "metadata": {},
   "outputs": [],
   "source": [
    "p_peakstest = []\n",
    "q_peakstest = []\n",
    "rpeakstest = []\n",
    "s_peakstest = []\n",
    "t_peakstest = []\n",
    "\n",
    "for i in range(mean_heart_test.shape[0]):\n",
    "    try:\n",
    "        heart = mean_heart_test[i]\n",
    "        r_idx = np.argmax(heart)\n",
    "        rrpeak = heart[r_idx] # max = r-peak\n",
    "\n",
    "        q_idx = r_idx - np.where((np.diff(heart[:r_idx][::-1]) < 0) == False)[0][0]\n",
    "        q_peak = heart[q_idx]\n",
    "\n",
    "        p_idx = np.argmax(heart[:q_idx])\n",
    "        p_peak = heart[p_idx]\n",
    "\n",
    "        s_idx = np.where((np.diff(heart[r_idx:]) < 0) == False)[0][0] + r_idx\n",
    "        s_peak = heart[s_idx]\n",
    "\n",
    "        t_idx = np.argmax(heart[s_idx:]) + s_idx\n",
    "        t_peak = heart[t_idx]\n",
    "\n",
    "        p_peakstest.append(p_peak)\n",
    "        q_peakstest.append(q_peak)\n",
    "        rpeakstest.append(rrpeak)\n",
    "        s_peakstest.append(s_peak)\n",
    "        t_peakstest.append(t_peak)\n",
    "    except:\n",
    "        print(i)\n",
    "        heart = mean_heart_test[i]\n",
    "        r_idx = np.argmax(heart)\n",
    "        rrpeak = heart[r_idx]\n",
    "        \n",
    "        q_idx = 0\n",
    "        q_peak = heart[q_idx]\n",
    "        \n",
    "        p_idx = 0\n",
    "        p_peak = heart[p_idx]\n",
    "        \n",
    "        s_idx = np.where((np.diff(heart[r_idx:]) < 0) == False)[0][0] + r_idx\n",
    "        s_peak = heart[s_idx]\n",
    "        \n",
    "        t_idx = np.argmax(heart[s_idx:]) + s_idx\n",
    "        t_peak = heart[t_idx]\n",
    "\n",
    "        p_peakstest.append(p_peak)\n",
    "        q_peakstest.append(q_peak)\n",
    "        rpeakstest.append(rrpeak)\n",
    "        s_peakstest.append(s_peak)\n",
    "        t_peakstest.append(t_peak)"
   ]
  },
  {
   "cell_type": "code",
   "execution_count": null,
   "id": "9a866af4",
   "metadata": {},
   "outputs": [],
   "source": [
    "## PR, QRS, ST interval / segment\n",
    "\n",
    "prtest = []\n",
    "qrstest = []\n",
    "sttest = []\n",
    "\n",
    "for i in range(len(rpeakstest)):\n",
    "    prtest.append(rpeakstest[i] - p_peakstest[i])\n",
    "    qrstest.append(s_peakstest[i] - q_peakstest[i])\n",
    "    sttest.append(t_peakstest[i] - s_peakstest[i])"
   ]
  },
  {
   "cell_type": "code",
   "execution_count": null,
   "id": "ed2ebdd9",
   "metadata": {},
   "outputs": [],
   "source": [
    "# to numpy\n",
    "rpeakstest = np.array(rpeakstest)\n",
    "p_peakstest = np.array(p_peakstest)\n",
    "q_peakstest = np.array(q_peakstest)\n",
    "t_peakstest = np.array(t_peakstest)\n",
    "s_peakstest = np.array(s_peakstest)\n",
    "prtest = np.array(prtest)\n",
    "qrstest = np.array(qrstest)\n",
    "sttest = np.array(sttest)"
   ]
  },
  {
   "cell_type": "code",
   "execution_count": null,
   "id": "457b564b",
   "metadata": {},
   "outputs": [],
   "source": [
    "A_list_test = []\n",
    "D_list_test = []\n",
    "for i in range(len(mean_heart_test)):\n",
    "    A, D = pywt.dwt(mean_heart_test[i], 'db2', mode='periodic')\n",
    "    A_list_test.append(A)\n",
    "    D_list_test.append(D)\n",
    "    \n",
    "A_list_test = np.array(A_list_test)\n",
    "D_list_test = np.array(D_list_test)"
   ]
  },
  {
   "cell_type": "markdown",
   "id": "75a8f1fc",
   "metadata": {},
   "source": [
    "### Collect features"
   ]
  },
  {
   "cell_type": "code",
   "execution_count": null,
   "id": "c496859d",
   "metadata": {},
   "outputs": [],
   "source": [
    "test_features = np.column_stack((rpeak_mean, rpeakm_std, rpeak_median, rpeak_max, rpeak_min, meanh, stdh, medianh,\n",
    "                                 max_meanh, min_meanh, max_stdh, min_stdh, heart_rate_mean_test, heart_rate_std_test,\n",
    "                                 heart_rate_median_test, rpeakstest, p_peakstest, q_peakstest, s_peakstest, t_peakstest,\n",
    "                                 prtest, qrstest, sttest, hrv_time_domain_test, A_list_test, D_list_test))"
   ]
  },
  {
   "cell_type": "code",
   "execution_count": null,
   "id": "eda8d537",
   "metadata": {},
   "outputs": [],
   "source": [
    "test_features_std = (test_features - test_features.mean(axis=0)) / test_features.std(axis=0)\n",
    "y_test_pred = gcv.predict(test_features_std)"
   ]
  },
  {
   "cell_type": "markdown",
   "id": "da5335c8",
   "metadata": {},
   "source": [
    "## Output"
   ]
  },
  {
   "cell_type": "code",
   "execution_count": null,
   "id": "9ddad212",
   "metadata": {},
   "outputs": [],
   "source": [
    "output = np.column_stack((np.array(test_ids), y_test_pred))\n",
    "\n",
    "df = pd.DataFrame(output, columns=['id', 'y'])\n",
    "df.to_csv('submission.csv', index=False, header=True, sep=',')"
   ]
  }
 ],
 "metadata": {
  "kernelspec": {
   "display_name": "Python 3.8.7 64-bit",
   "language": "python",
   "name": "python3"
  },
  "language_info": {
   "codemirror_mode": {
    "name": "ipython",
    "version": 3
   },
   "file_extension": ".py",
   "mimetype": "text/x-python",
   "name": "python",
   "nbconvert_exporter": "python",
   "pygments_lexer": "ipython3",
   "version": "3.8.7"
  },
  "vscode": {
   "interpreter": {
    "hash": "39b5c16b68b67ba22346ef6d698bf62f4f1e91a475e577be2818f6d4b05b72b5"
   }
  }
 },
 "nbformat": 4,
 "nbformat_minor": 5
}
