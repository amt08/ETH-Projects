{
 "cells": [
  {
   "cell_type": "code",
   "execution_count": null,
   "metadata": {},
   "outputs": [],
   "source": [
    "import pandas as pd\n",
    "import numpy as np\n",
    "\n",
    "from sklearn.ensemble import IsolationForest\n",
    "from sklearn.model_selection import train_test_split\n",
    "from sklearn.preprocessing import StandardScaler\n",
    "from sklearn.metrics import r2_score\n",
    "\n",
    "import tensorflow as tf\n",
    "from keras.layers import Input, Dense, Flatten, Dropout\n",
    "from tensorflow.keras.models import Sequential\n",
    "from tensorflow.keras.optimizers import Adam\n",
    "\n",
    "import os\n",
    "#os.environ['CUDA_VISIBLE_DEVICES'] = '-1'\n",
    "os.environ['TF_CUDNN_DETERMINISM'] = '1'\n",
    "os.environ['TF_DETERMINISTIC_OPS'] = '1'\n",
    "\n",
    "random_state = 1508\n",
    "\n",
    "np.random.seed(random_state)\n",
    "tf.random.set_seed(random_state)"
   ]
  },
  {
   "cell_type": "code",
   "execution_count": null,
   "metadata": {},
   "outputs": [],
   "source": [
    "# read data\n",
    "X = pd.read_csv('X_train.csv')\n",
    "y = pd.read_csv('y_train.csv')\n",
    "\n",
    "X = X.drop('id', axis=1)\n",
    "y = y.drop('id', axis=1)\n",
    "\n",
    "print(X.shape, y.shape)"
   ]
  },
  {
   "cell_type": "code",
   "execution_count": null,
   "metadata": {},
   "outputs": [],
   "source": [
    "# missing values\n",
    "X = X.fillna(X.median())"
   ]
  },
  {
   "cell_type": "code",
   "execution_count": null,
   "metadata": {},
   "outputs": [],
   "source": [
    "# outliers\n",
    "iso = IsolationForest (max_samples=100, random_state=random_state, contamination='auto')\n",
    "iso_preds = iso.fit_predict(X)\n",
    "X = X[iso_preds==1]\n",
    "y = y[iso_preds==1]\n",
    "\n",
    "print(X.shape, y.shape)"
   ]
  },
  {
   "cell_type": "code",
   "execution_count": null,
   "metadata": {},
   "outputs": [],
   "source": [
    "# select columns\n",
    "X_corr = X.copy()\n",
    "X_corr['y'] = y.copy()\n",
    "\n",
    "corr = X_corr.corr().y.dropna()\n",
    "\n",
    "corr_thresh = 0.1\n",
    "corr_features = list(corr[((corr > corr_thresh) | (corr < -corr_thresh)) & (corr.index != 'y')].index)\n",
    "\n",
    "X = X[corr_features]"
   ]
  },
  {
   "cell_type": "code",
   "execution_count": null,
   "metadata": {},
   "outputs": [],
   "source": [
    "# data split\n",
    "X_train, X_test, y_train, y_test = train_test_split(X, y, test_size=0.1, random_state=random_state)\n",
    "print(X_train.shape, y_test.shape)"
   ]
  },
  {
   "cell_type": "code",
   "execution_count": null,
   "metadata": {},
   "outputs": [],
   "source": [
    "# normalize\n",
    "X_train_norm = (X_train - X_train.mean()) / X_train.std()\n",
    "X_test_norm = (X_test - X_test.mean()) / X_test.std()\n",
    "\n",
    "y_mean = y.mean()[0]\n",
    "y_std = y.std()[0]\n",
    "y_train_norm = (y_train - y_mean) / y_std\n",
    "y_test_norm = (y_test - y_mean) / y_std"
   ]
  },
  {
   "cell_type": "code",
   "execution_count": null,
   "metadata": {
    "scrolled": true
   },
   "outputs": [],
   "source": [
    "# model\n",
    "\n",
    "model = Sequential()\n",
    "model.add(Dense(X_train.shape[1], activation='relu'))\n",
    "model.add(Dense(512, activation='relu'))\n",
    "model.add(Dense(256, activation='relu'))\n",
    "model.add(Dense(128, activation='relu'))\n",
    "model.add(Dense(64, activation='linear'))\n",
    "model.add(Dense(1))\n",
    "\n",
    "model.compile(loss='mean_absolute_error', optimizer='adam')\n",
    "model.fit(X_train_norm, y_train_norm, epochs=40)\n",
    "\n",
    "y_pred = model.predict(X_test_norm)\n",
    "y_pred = y_pred*y_std + y_mean\n",
    "    \n",
    "# saving the score\n",
    "score = r2_score(y_test, y_pred)\n",
    "\n",
    "print(score)"
   ]
  },
  {
   "cell_type": "code",
   "execution_count": null,
   "metadata": {},
   "outputs": [],
   "source": [
    "# generate submission\n",
    "\n",
    "X_sub = pd.read_csv('X_test.csv')\n",
    "\n",
    "X_sub_id = X_sub.id\n",
    "X_sub = X_sub.drop('id', axis=1)\n",
    "\n",
    "print(X_sub.shape)\n",
    "\n",
    "# missing values\n",
    "X_sub = X_sub.fillna(X_sub.median())\n",
    "\n",
    "# select columns\n",
    "X_sub = X_sub[corr_features]\n",
    "\n",
    "# normalize\n",
    "X_sub_norm = (X_sub - X_sub.mean()) / X_sub.std()\n",
    "\n",
    "y_sub_pred = model.predict(X_sub_norm)\n",
    "y_sub_pred = y_sub_pred * y_std + y_mean\n",
    "\n",
    "output = np.column_stack((np.array(X_sub_id), y_sub_pred))\n",
    "df = pd.DataFrame(output, columns=['id', 'y'])\n",
    "df.to_csv('submission.csv', index=False, header=True, sep=',')\n",
    "\n",
    "print(df.shape)"
   ]
  }
 ],
 "metadata": {
  "kernelspec": {
   "display_name": "Python 3.8.7 64-bit",
   "language": "python",
   "name": "python3"
  },
  "language_info": {
   "codemirror_mode": {
    "name": "ipython",
    "version": 3
   },
   "file_extension": ".py",
   "mimetype": "text/x-python",
   "name": "python",
   "nbconvert_exporter": "python",
   "pygments_lexer": "ipython3",
   "version": "3.8.7"
  },
  "vscode": {
   "interpreter": {
    "hash": "39b5c16b68b67ba22346ef6d698bf62f4f1e91a475e577be2818f6d4b05b72b5"
   }
  }
 },
 "nbformat": 4,
 "nbformat_minor": 4
}
