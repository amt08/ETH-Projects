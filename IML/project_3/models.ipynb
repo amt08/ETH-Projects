{
 "cells": [
  {
   "cell_type": "code",
   "execution_count": null,
   "metadata": {},
   "outputs": [],
   "source": [
    "import numpy as np\n",
    "import pandas as pd\n",
    "import zipfile\n",
    "from sklearn.model_selection import train_test_split\n",
    "from sklearn.metrics import r2_score\n",
    "from sklearn.metrics import roc_auc_score\n",
    "from sklearn.multioutput import MultiOutputClassifier, MultiOutputRegressor\n",
    "from sklearn.ensemble import GradientBoostingClassifier, GradientBoostingRegressor\n",
    "np.random.seed(2049)"
   ]
  },
  {
   "cell_type": "markdown",
   "metadata": {},
   "source": [
    "## Load data"
   ]
  },
  {
   "cell_type": "code",
   "execution_count": null,
   "metadata": {},
   "outputs": [],
   "source": [
    "X = np.load(\"data/X_train_processed.npy\")\n",
    "pids, X = X[:, 0], X[:, 1:]\n",
    "X_test = np.load(\"data/X_test_processed.npy\")\n",
    "test_idx, X_test = X_test[:, 0], X_test[:, 1:]\n",
    "y = np.load(\"data/y.npy\")"
   ]
  },
  {
   "cell_type": "markdown",
   "metadata": {},
   "source": [
    "## Subtask 1"
   ]
  },
  {
   "cell_type": "code",
   "execution_count": null,
   "metadata": {},
   "outputs": [],
   "source": [
    "# The columns to predict for this subtask\n",
    "predcols1 = np.arange(1, (10+1))\n",
    "y_1 = y[:, predcols1]\n",
    "print(y_1.shape)"
   ]
  },
  {
   "cell_type": "code",
   "execution_count": null,
   "metadata": {},
   "outputs": [],
   "source": [
    "X_train, X_val, y1_train, y1_val = train_test_split(X, y_1, test_size=0.2, random_state=2049)"
   ]
  },
  {
   "cell_type": "code",
   "execution_count": null,
   "metadata": {},
   "outputs": [],
   "source": [
    "r = GradientBoostingClassifier(n_estimators=50, max_depth=5, random_state=2049)\n",
    "clf = MultiOutputClassifier(r, n_jobs=-1)\n",
    "clf.fit(X_train, y1_train)"
   ]
  },
  {
   "cell_type": "code",
   "execution_count": null,
   "metadata": {},
   "outputs": [],
   "source": [
    "train_preds = np.array(clf.predict_proba(X_train))[:, :, 1].T\n",
    "val_preds = np.array(clf.predict_proba(X_val))[:, :, 1].T\n",
    "test_preds1 = np.array(clf.predict_proba(X_test))[:, :, 1].T"
   ]
  },
  {
   "cell_type": "code",
   "execution_count": null,
   "metadata": {},
   "outputs": [],
   "source": [
    "rocs = list()\n",
    "for col_id in range(y1_val.shape[1]):\n",
    "    roc = roc_auc_score(y1_val[:, col_id], val_preds[:, col_id])\n",
    "    rocs.append(roc)\n",
    "    print(roc)\n",
    "print(f\"Mean: {np.mean(rocs)}\")"
   ]
  },
  {
   "cell_type": "markdown",
   "metadata": {},
   "source": [
    "## Subtask 2"
   ]
  },
  {
   "cell_type": "code",
   "execution_count": null,
   "metadata": {},
   "outputs": [],
   "source": [
    "predcols2 = 11\n",
    "y_2 = y[:, predcols2]"
   ]
  },
  {
   "cell_type": "code",
   "execution_count": null,
   "metadata": {},
   "outputs": [],
   "source": [
    "X_train, X_val, y2_train, y2_val = train_test_split(X, y_2, test_size=0.2, random_state=2049)"
   ]
  },
  {
   "cell_type": "code",
   "execution_count": null,
   "metadata": {},
   "outputs": [],
   "source": [
    "clf = GradientBoostingClassifier(n_estimators=100, max_depth=4, random_state=2049)\n",
    "clf.fit(X_train, y2_train)"
   ]
  },
  {
   "cell_type": "code",
   "execution_count": null,
   "metadata": {},
   "outputs": [],
   "source": [
    "train_preds = np.array(clf.predict_proba(X_train))[:, 1].T\n",
    "val_preds = np.array(clf.predict_proba(X_val))[:, 1].T\n",
    "test_preds2 = np.array(clf.predict_proba(X_test))[:, 1].T"
   ]
  },
  {
   "cell_type": "code",
   "execution_count": null,
   "metadata": {},
   "outputs": [],
   "source": [
    "roc = roc_auc_score(y2_train, train_preds)\n",
    "print(f\"AUCROC train: {roc}\")\n",
    "roc = roc_auc_score(y2_val, val_preds)\n",
    "print(f\"AUCROC val: {roc}\")"
   ]
  },
  {
   "cell_type": "markdown",
   "metadata": {},
   "source": [
    "## Subtask 3"
   ]
  },
  {
   "cell_type": "code",
   "execution_count": null,
   "metadata": {},
   "outputs": [],
   "source": [
    "predcols3 = np.arange(12, (15+1))\n",
    "y_3 = y[:, predcols3]"
   ]
  },
  {
   "cell_type": "code",
   "execution_count": null,
   "metadata": {},
   "outputs": [],
   "source": [
    "X_train, X_val, y3_train, y3_val = train_test_split(X, y_3, test_size=0.2, random_state=2049)"
   ]
  },
  {
   "cell_type": "code",
   "execution_count": null,
   "metadata": {},
   "outputs": [],
   "source": [
    "r = GradientBoostingRegressor(n_estimators=100, max_depth=3, random_state=2049)\n",
    "clf = MultiOutputRegressor(r, n_jobs=-1)\n",
    "clf.fit(X_train, y3_train)"
   ]
  },
  {
   "cell_type": "code",
   "execution_count": null,
   "metadata": {},
   "outputs": [],
   "source": [
    "train_preds = clf.predict(X_train)\n",
    "val_preds = clf.predict(X_val)\n",
    "test_preds3 = clf.predict(X_test)"
   ]
  },
  {
   "cell_type": "code",
   "execution_count": null,
   "metadata": {},
   "outputs": [],
   "source": [
    "rs = list()\n",
    "for col_id in range(y3_val.shape[1]):\n",
    "    r = r2_score(y3_val[:, col_id], val_preds[:, col_id])\n",
    "    rs.append(r)\n",
    "    print(0.5+0.5*r)\n",
    "print(f\"Mean: {0.5 + 0.5*np.mean(rs)}\")"
   ]
  },
  {
   "cell_type": "markdown",
   "metadata": {},
   "source": [
    "## Saving results"
   ]
  },
  {
   "cell_type": "code",
   "execution_count": null,
   "metadata": {},
   "outputs": [],
   "source": [
    "test_preds = np.zeros((X_test.shape[0], y.shape[1]))\n",
    "test_preds[:, 0] = test_idx.astype(int)\n",
    "test_preds[:, predcols1] = test_preds1\n",
    "test_preds[:, predcols2] = test_preds2\n",
    "test_preds[:, predcols3] = test_preds3"
   ]
  },
  {
   "cell_type": "code",
   "execution_count": null,
   "metadata": {},
   "outputs": [],
   "source": [
    "temp_df = pd.read_csv('data/train_labels.csv', delimiter=',')\n",
    "colnames = temp_df.columns"
   ]
  },
  {
   "cell_type": "code",
   "execution_count": null,
   "metadata": {},
   "outputs": [],
   "source": [
    "df = pd.DataFrame(test_preds, columns=colnames)\n",
    "df['pid'] = df['pid'].astype(int)\n",
    "df.to_csv('prediction.csv', index=False, float_format='%.3f')"
   ]
  },
  {
   "cell_type": "code",
   "execution_count": null,
   "metadata": {},
   "outputs": [],
   "source": [
    "zipper = zipfile.ZipFile('prediction.zip', 'w', zipfile.ZIP_DEFLATED)\n",
    "zipper.write('prediction.csv')\n",
    "zipper.close()"
   ]
  }
 ],
 "metadata": {
  "kernelspec": {
   "display_name": "Python 3.8.7 64-bit",
   "language": "python",
   "name": "python3"
  },
  "language_info": {
   "codemirror_mode": {
    "name": "ipython",
    "version": 3
   },
   "file_extension": ".py",
   "mimetype": "text/x-python",
   "name": "python",
   "nbconvert_exporter": "python",
   "pygments_lexer": "ipython3",
   "version": "3.8.7"
  },
  "vscode": {
   "interpreter": {
    "hash": "39b5c16b68b67ba22346ef6d698bf62f4f1e91a475e577be2818f6d4b05b72b5"
   }
  }
 },
 "nbformat": 4,
 "nbformat_minor": 4
}
