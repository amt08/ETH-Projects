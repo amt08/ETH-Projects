{
 "cells": [
  {
   "cell_type": "code",
   "execution_count": null,
   "metadata": {},
   "outputs": [],
   "source": [
    "import numpy as np\n",
    "from sklearn.impute import SimpleImputer\n",
    "from sklearn.preprocessing import StandardScaler\n",
    "np.random.seed(2049)"
   ]
  },
  {
   "cell_type": "markdown",
   "metadata": {},
   "source": [
    "## Load data"
   ]
  },
  {
   "cell_type": "code",
   "execution_count": null,
   "metadata": {},
   "outputs": [],
   "source": [
    "X_train = np.load(\"data/X_train.npy\")\n",
    "X_test = np.load(\"data/X_test.npy\")\n",
    "y = np.load(\"data/y.npy\")"
   ]
  },
  {
   "cell_type": "markdown",
   "metadata": {},
   "source": [
    "## Processing"
   ]
  },
  {
   "cell_type": "markdown",
   "metadata": {},
   "source": [
    "### Remove Nans"
   ]
  },
  {
   "cell_type": "code",
   "execution_count": null,
   "metadata": {},
   "outputs": [],
   "source": [
    "def impute_partly(X):\n",
    "    pids = list(set(X[:, 0]))\n",
    "    features_list = list()\n",
    "    for i in range(len(pids)):\n",
    "        datarows = X[i*12:12*(i+1), :]\n",
    "        ids = np.where(np.sum(np.isnan(datarows), axis=0) < 12)[0]\n",
    "        imputer = SimpleImputer(missing_values=np.nan, strategy='median')\n",
    "        imputer.fit(X[i*12:12*(i+1), ids])\n",
    "        X[i*12:12*(i+1), ids] = imputer.transform(X[i*12:12*(i+1), ids])\n",
    "    return X\n",
    "\n",
    "print(np.sum(np.isnan(X_train)))\n",
    "X_train = impute_partly(X_train)\n",
    "X_test = impute_partly(X_test)\n",
    "print(np.sum(np.isnan(X_train)))"
   ]
  },
  {
   "cell_type": "code",
   "execution_count": null,
   "metadata": {},
   "outputs": [],
   "source": [
    "print(np.sum(np.isnan(X_train)))\n",
    "imputer = SimpleImputer(missing_values=np.nan, strategy='median')\n",
    "imputer.fit(np.concatenate((X_train, X_test), axis=0))\n",
    "X_train = imputer.transform(X_train)\n",
    "X_test = imputer.transform(X_test)\n",
    "print(np.sum(np.isnan(X_train)))"
   ]
  },
  {
   "cell_type": "markdown",
   "metadata": {},
   "source": [
    "### Scaling\n"
   ]
  },
  {
   "cell_type": "code",
   "execution_count": null,
   "metadata": {},
   "outputs": [],
   "source": [
    "scaler = StandardScaler()\n",
    "scaler.fit(np.concatenate((X_train[:, 1:], X_test[:, 1:]), axis=0))\n",
    "X_train[:, 1:] = scaler.transform(X_train[:, 1:])\n",
    "X_test[:, 1:] = scaler.transform(X_test[:, 1:])"
   ]
  },
  {
   "cell_type": "markdown",
   "metadata": {},
   "source": [
    "### Extract features"
   ]
  },
  {
   "cell_type": "code",
   "execution_count": null,
   "metadata": {},
   "outputs": [],
   "source": [
    "def extract(X):\n",
    "    pids = list(set(X[:, 0]))\n",
    "    features_list = list()\n",
    "    for i in range(len(pids)):\n",
    "        datarows = X[i*12:12*(i+1), :]\n",
    "        features = list()\n",
    "        features.append(datarows[0, 0])\n",
    "        features.append(datarows[0, 2])\n",
    "\n",
    "        for j in range(3, datarows.shape[1]):\n",
    "            features.append(np.mean(datarows[:, j]))\n",
    "            features.append(np.std(datarows[:, j]))\n",
    "        features_list.append(features)\n",
    "    features_list = np.array(features_list)\n",
    "    return features_list\n",
    "\n",
    "train_features = extract(X_train)\n",
    "test_features = extract(X_test)\n",
    "print(train_features.shape)\n",
    "print(test_features.shape)"
   ]
  },
  {
   "cell_type": "code",
   "execution_count": null,
   "metadata": {},
   "outputs": [],
   "source": [
    "X_train_processed = train_features\n",
    "X_test_processed = test_features"
   ]
  },
  {
   "cell_type": "markdown",
   "metadata": {},
   "source": [
    "## Saving"
   ]
  },
  {
   "cell_type": "code",
   "execution_count": null,
   "metadata": {},
   "outputs": [],
   "source": [
    "np.save(\"data/X_train_processed.npy\", X_train_processed)\n",
    "np.save(\"data/X_test_processed.npy\", X_test_processed)\n",
    "np.save(\"data/y.npy\", y)"
   ]
  }
 ],
 "metadata": {
  "kernelspec": {
   "display_name": "Python 3.8.7 64-bit",
   "language": "python",
   "name": "python3"
  },
  "language_info": {
   "codemirror_mode": {
    "name": "ipython",
    "version": 3
   },
   "file_extension": ".py",
   "mimetype": "text/x-python",
   "name": "python",
   "nbconvert_exporter": "python",
   "pygments_lexer": "ipython3",
   "version": "3.8.7"
  },
  "vscode": {
   "interpreter": {
    "hash": "39b5c16b68b67ba22346ef6d698bf62f4f1e91a475e577be2818f6d4b05b72b5"
   }
  }
 },
 "nbformat": 4,
 "nbformat_minor": 4
}
