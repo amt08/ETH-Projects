{
 "cells": [
  {
   "cell_type": "code",
   "execution_count": null,
   "metadata": {},
   "outputs": [],
   "source": [
    "import numpy as np\n",
    "np.random.seed(2049)"
   ]
  },
  {
   "cell_type": "code",
   "execution_count": null,
   "metadata": {},
   "outputs": [],
   "source": [
    "import pandas as pd\n",
    "from sklearn.linear_model import Ridge\n",
    "from sklearn.metrics import mean_squared_error"
   ]
  },
  {
   "cell_type": "markdown",
   "metadata": {},
   "source": [
    "## Load data"
   ]
  },
  {
   "cell_type": "code",
   "execution_count": null,
   "metadata": {},
   "outputs": [],
   "source": [
    "X = np.load(\"data/X_processed.npy\")\n",
    "y = np.load(\"data/y.npy\")"
   ]
  },
  {
   "cell_type": "code",
   "execution_count": null,
   "metadata": {},
   "outputs": [],
   "source": [
    "index = np.random.permutation(X.shape[0])\n",
    "X_transformed = X[index, :]\n",
    "y_transformed = y[index]"
   ]
  },
  {
   "cell_type": "markdown",
   "metadata": {},
   "source": [
    "## Classify"
   ]
  },
  {
   "cell_type": "code",
   "execution_count": null,
   "metadata": {},
   "outputs": [],
   "source": [
    "alphas = [0.1, 1, 10, 100, 200]\n",
    "no_folds = 10\n",
    "partition_length = len(index) // no_folds\n",
    "\n",
    "# manual cross-validation\n",
    "def rmse_cv(alpha):\n",
    "    rmse = list()\n",
    "    for k in range(no_folds):\n",
    "        ridge = Ridge(alpha=alpha)\n",
    "        indexes = index[k*partition_length : k*partition_length + partition_length]\n",
    "        X_test = X_transformed[indexes]\n",
    "        y_test = y_transformed[indexes]\n",
    "        X_train = np.delete(X_transformed, indexes, axis=0)\n",
    "        y_train = np.delete(y_transformed, indexes)\n",
    "        model = ridge.fit(X_train, y_train)\n",
    "        y_hat = model.predict(X_test)\n",
    "        rmse.append(mean_squared_error(y_test, y_hat) ** 0.5)\n",
    "    return np.mean(rmse) # cv score per alpha\n"
   ]
  },
  {
   "cell_type": "code",
   "execution_count": null,
   "metadata": {},
   "outputs": [],
   "source": [
    "rmse_list = list()\n",
    "for alpha in alphas:\n",
    "    avg_rmse = rmse_cv(alpha)\n",
    "    rmse_list.append(avg_rmse)"
   ]
  },
  {
   "cell_type": "markdown",
   "metadata": {},
   "source": [
    "## Saving results"
   ]
  },
  {
   "cell_type": "code",
   "execution_count": null,
   "metadata": {},
   "outputs": [],
   "source": [
    "df = pd.DataFrame(rmse_list, columns=['y'])\n",
    "df.to_csv('data/test_preds.csv', index=False, header=False)"
   ]
  }
 ],
 "metadata": {
  "kernelspec": {
   "display_name": "Python 3.8.7 64-bit",
   "language": "python",
   "name": "python3"
  },
  "language_info": {
   "codemirror_mode": {
    "name": "ipython",
    "version": 3
   },
   "file_extension": ".py",
   "mimetype": "text/x-python",
   "name": "python",
   "nbconvert_exporter": "python",
   "pygments_lexer": "ipython3",
   "version": "3.8.7"
  },
  "vscode": {
   "interpreter": {
    "hash": "39b5c16b68b67ba22346ef6d698bf62f4f1e91a475e577be2818f6d4b05b72b5"
   }
  }
 },
 "nbformat": 4,
 "nbformat_minor": 4
}
