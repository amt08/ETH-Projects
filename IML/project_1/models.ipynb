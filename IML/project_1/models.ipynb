{
 "cells": [
  {
   "cell_type": "code",
   "execution_count": null,
   "metadata": {},
   "outputs": [],
   "source": [
    "import numpy as np\n",
    "np.random.seed(2049)"
   ]
  },
  {
   "cell_type": "code",
   "execution_count": null,
   "metadata": {},
   "outputs": [],
   "source": [
    "import numpy as np\n",
    "import matplotlib.pyplot as plt\n",
    "from sklearn.model_selection import train_test_split\n",
    "from sklearn.linear_model import Ridge\n",
    "from sklearn.metrics import mean_squared_error"
   ]
  },
  {
   "cell_type": "markdown",
   "metadata": {},
   "source": [
    "## Load data"
   ]
  },
  {
   "cell_type": "code",
   "execution_count": null,
   "metadata": {},
   "outputs": [],
   "source": [
    "X = np.load(\"data/X_processed.npy\")\n",
    "y = np.load(\"data/y.npy\")"
   ]
  },
  {
   "cell_type": "code",
   "execution_count": null,
   "metadata": {},
   "outputs": [],
   "source": [
    "ids = np.random.permutation(X.shape[0])\n",
    "X_shuffled = X[ids, :]\n",
    "y_shuffled = y[ids]"
   ]
  },
  {
   "cell_type": "markdown",
   "metadata": {},
   "source": [
    "## Classify"
   ]
  },
  {
   "cell_type": "code",
   "execution_count": null,
   "metadata": {},
   "outputs": [],
   "source": [
    "lambdas = [0.1, 1, 10, 100, 200]\n",
    "n_folds = 10\n",
    "\n",
    "avg_rmse = list()\n",
    "for alpha in lambdas:\n",
    "    avg_rmse_lambda = list()\n",
    "    for i in range(n_folds):\n",
    "        clf = Ridge(alpha=alpha)\n",
    "        s = len(ids)//n_folds\n",
    "        fold_ids = ids[i*s:i*s+s]\n",
    "        X_train = np.delete(X_shuffled, fold_ids, axis=0)\n",
    "        X_val = X_shuffled[fold_ids]\n",
    "        y_train = np.delete(y_shuffled, fold_ids)\n",
    "        y_val = y_shuffled[fold_ids]\n",
    "        clf.fit(X_train, y_train)\n",
    "        preds_val = clf.predict(X_val)\n",
    "        rmse = mean_squared_error(y_val, preds_val)**0.5\n",
    "        avg_rmse_lambda.append(rmse)\n",
    "    avg_rmse.append(np.mean(avg_rmse_lambda))"
   ]
  },
  {
   "cell_type": "code",
   "execution_count": null,
   "metadata": {},
   "outputs": [],
   "source": [
    "print(avg_rmse)\n",
    "plt.plot(avg_rmse)"
   ]
  },
  {
   "cell_type": "markdown",
   "metadata": {},
   "source": [
    "## Saving results"
   ]
  },
  {
   "cell_type": "code",
   "execution_count": null,
   "metadata": {},
   "outputs": [],
   "source": [
    "import pandas as pd\n",
    "df = pd.DataFrame(avg_rmse, columns=['y'])\n",
    "df.to_csv('data/test_preds.csv', index=False, header=False)"
   ]
  }
 ],
 "metadata": {
  "kernelspec": {
   "display_name": "Python 3.8.7 64-bit",
   "language": "python",
   "name": "python3"
  },
  "language_info": {
   "codemirror_mode": {
    "name": "ipython",
    "version": 3
   },
   "file_extension": ".py",
   "mimetype": "text/x-python",
   "name": "python",
   "nbconvert_exporter": "python",
   "pygments_lexer": "ipython3",
   "version": "3.8.7"
  },
  "vscode": {
   "interpreter": {
    "hash": "39b5c16b68b67ba22346ef6d698bf62f4f1e91a475e577be2818f6d4b05b72b5"
   }
  }
 },
 "nbformat": 4,
 "nbformat_minor": 4
}
