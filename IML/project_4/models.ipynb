{
 "cells": [
  {
   "cell_type": "code",
   "execution_count": null,
   "metadata": {},
   "outputs": [],
   "source": [
    "import numpy as np\n",
    "import pandas as pd\n",
    "from sklearn.model_selection import train_test_split\n",
    "from sklearn.metrics import f1_score\n",
    "from sklearn.model_selection import GridSearchCV\n",
    "from sklearn.ensemble import RandomForestClassifier\n",
    "import xgboost as xgb\n",
    "np.random.seed(2049)"
   ]
  },
  {
   "cell_type": "markdown",
   "metadata": {},
   "source": [
    "## Load data"
   ]
  },
  {
   "cell_type": "code",
   "execution_count": null,
   "metadata": {},
   "outputs": [],
   "source": [
    "X = np.load(\"data/X_processed.npy\")\n",
    "X_test = np.load(\"data/X_processed_test.npy\")\n",
    "y = np.load(\"data/y.npy\")"
   ]
  },
  {
   "cell_type": "markdown",
   "metadata": {},
   "source": [
    "## Split"
   ]
  },
  {
   "cell_type": "code",
   "execution_count": null,
   "metadata": {},
   "outputs": [],
   "source": [
    "X_train, X_val, y_train, y_val = train_test_split(X, y, test_size=0.2)"
   ]
  },
  {
   "cell_type": "markdown",
   "metadata": {},
   "source": [
    "## Classify"
   ]
  },
  {
   "cell_type": "code",
   "execution_count": null,
   "metadata": {},
   "outputs": [],
   "source": [
    "weights = np.unique(y, return_counts=True) # checking class imbalance\n",
    "weights\n",
    "active = weights[1][1]\n",
    "inactive = weights[1][0]\n",
    "total = y.shape[0]"
   ]
  },
  {
   "cell_type": "code",
   "execution_count": null,
   "metadata": {},
   "outputs": [],
   "source": [
    "weight_for_0 = (1 / inactive)*(total)/2.0 \n",
    "weight_for_1 = (1 / active)*(total)/2.0\n",
    "class_weight = {0: weight_for_0, 1: weight_for_1}\n",
    "class_weight"
   ]
  },
  {
   "cell_type": "markdown",
   "metadata": {},
   "source": [
    "#### RFs"
   ]
  },
  {
   "cell_type": "code",
   "execution_count": null,
   "metadata": {},
   "outputs": [],
   "source": [
    "# params = {'n_estimators': [50, 100, 500],\n",
    "#           'max_depth': [4, 5, 7]\n",
    "#          }\n",
    "\n",
    "# rf = RandomForestClassifier(random_state=2049, class_weight=class_weight)\n",
    "# gcv = GridSearchCV(rf, param_grid=params, n_jobs=1, verbose = 15, scoring='f1')\n",
    "# gcv.fit(X_train, y_train)\n",
    "\n",
    "# rf_best = RandomForestClassifier(**gcv.best_params_, random_state=2049, class_weight=class_weight)\n",
    "# rf.fit(X_train, y_train)\n"
   ]
  },
  {
   "cell_type": "code",
   "execution_count": null,
   "metadata": {},
   "outputs": [],
   "source": [
    "# preds_train = rf.predict(X_train)\n",
    "# preds_val = rf.predict(X_val)\n",
    "# preds_test = rf.predict(X_test)"
   ]
  },
  {
   "cell_type": "code",
   "execution_count": null,
   "metadata": {},
   "outputs": [],
   "source": [
    "# print(f\"Train F1: {f1_score(y_train, preds_train)}\")\n",
    "# print(f\"Val F1: {f1_score(y_val, preds_val)}\")"
   ]
  },
  {
   "cell_type": "markdown",
   "metadata": {},
   "source": [
    "#### XGB"
   ]
  },
  {
   "cell_type": "code",
   "execution_count": null,
   "metadata": {},
   "outputs": [],
   "source": [
    "# class imbalance \n",
    "scale_pos_weight = np.sqrt(inactive/active) \n",
    "scale_pos_weight"
   ]
  },
  {
   "cell_type": "code",
   "execution_count": null,
   "metadata": {},
   "outputs": [],
   "source": [
    "# xgb.set_config(verbosity=2)\n",
    "# xgb_model = xgb.XGBClassifier()\n",
    "# parameters = {'objective':['binary:logistic'],\n",
    "#               'learning_rate': [0.1, 0.5, 0.7],\n",
    "#               'max_depth': [4, 7, 10],\n",
    "#               'n_estimators': [500, 1000, 3000], \n",
    "#               'seed': [2049]}\n",
    "\n",
    "\n",
    "# clf = GridSearchCV(xgb_model, parameters, n_jobs=1, \n",
    "#                    cv=5, \n",
    "#                    scoring='f1',\n",
    "#                    verbose=5)\n",
    "\n",
    "# clf.fit(X_train, y_train)"
   ]
  },
  {
   "cell_type": "code",
   "execution_count": null,
   "metadata": {},
   "outputs": [],
   "source": [
    "# clf.best_params_"
   ]
  },
  {
   "cell_type": "code",
   "execution_count": null,
   "metadata": {},
   "outputs": [],
   "source": [
    "xgb_model = xgb.XGBClassifier(learning_rate = 0.7, max_depth = 7, n_estimators = 1000, \n",
    "                              objective = 'binary:logistic', scale_pos_weight=scale_pos_weight, seed = 2049)\n",
    "xgb_model.fit(X_train, y_train)"
   ]
  },
  {
   "cell_type": "code",
   "execution_count": null,
   "metadata": {},
   "outputs": [],
   "source": [
    "preds_train = xgb_model.predict(X_train)\n",
    "preds_val = xgb_model.predict(X_val)\n",
    "preds_test = xgb_model.predict(X_test)"
   ]
  },
  {
   "cell_type": "markdown",
   "metadata": {},
   "source": [
    "## Performance"
   ]
  },
  {
   "cell_type": "code",
   "execution_count": null,
   "metadata": {},
   "outputs": [],
   "source": [
    "print(f\"Train F1: {f1_score(y_train, preds_train)}\")\n",
    "print(f\"Val F1: {f1_score(y_val, preds_val)}\")"
   ]
  },
  {
   "cell_type": "markdown",
   "metadata": {},
   "source": [
    "## Saving results"
   ]
  },
  {
   "cell_type": "code",
   "execution_count": null,
   "metadata": {},
   "outputs": [],
   "source": [
    "df = pd.DataFrame(preds_test, columns=['y'])\n",
    "df = df.astype({'y': 'int32'})\n",
    "df.to_csv('data/test_preds.csv', index=False, header=False)"
   ]
  }
 ],
 "metadata": {
  "kernelspec": {
   "display_name": "Python 3.8.7 64-bit",
   "language": "python",
   "name": "python3"
  },
  "language_info": {
   "codemirror_mode": {
    "name": "ipython",
    "version": 3
   },
   "file_extension": ".py",
   "mimetype": "text/x-python",
   "name": "python",
   "nbconvert_exporter": "python",
   "pygments_lexer": "ipython3",
   "version": "3.8.7"
  },
  "vscode": {
   "interpreter": {
    "hash": "39b5c16b68b67ba22346ef6d698bf62f4f1e91a475e577be2818f6d4b05b72b5"
   }
  }
 },
 "nbformat": 4,
 "nbformat_minor": 4
}
