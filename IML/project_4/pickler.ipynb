{
 "cells": [
  {
   "cell_type": "markdown",
   "metadata": {},
   "source": [
    "## Saves the data in npy files"
   ]
  },
  {
   "cell_type": "code",
   "execution_count": 1,
   "metadata": {},
   "outputs": [],
   "source": [
    "import numpy as np\n",
    "np.random.seed(2049)"
   ]
  },
  {
   "cell_type": "code",
   "execution_count": 2,
   "metadata": {},
   "outputs": [],
   "source": [
    "data = np.genfromtxt(\"data/train.csv\", delimiter=\",\", dtype=None, names=True, encoding=None)\n",
    "X = data['Sequence']\n",
    "y = data['Active']\n",
    "test_data = np.genfromtxt(\"data/test.csv\", delimiter=\",\", dtype=None, names=True, encoding=None)\n",
    "X_test = test_data['Sequence']"
   ]
  },
  {
   "cell_type": "code",
   "execution_count": 3,
   "metadata": {},
   "outputs": [],
   "source": [
    "np.save(\"data/X.npy\", X) # X_train\n",
    "np.save(\"data/y.npy\", y) # y_train\n",
    "np.save(\"data/X_test.npy\", X_test)"
   ]
  }
 ],
 "metadata": {
  "kernelspec": {
   "display_name": "Python 3.8.7 64-bit",
   "language": "python",
   "name": "python3"
  },
  "language_info": {
   "codemirror_mode": {
    "name": "ipython",
    "version": 3
   },
   "file_extension": ".py",
   "mimetype": "text/x-python",
   "name": "python",
   "nbconvert_exporter": "python",
   "pygments_lexer": "ipython3",
   "version": "3.8.7"
  },
  "vscode": {
   "interpreter": {
    "hash": "39b5c16b68b67ba22346ef6d698bf62f4f1e91a475e577be2818f6d4b05b72b5"
   }
  }
 },
 "nbformat": 4,
 "nbformat_minor": 4
}
