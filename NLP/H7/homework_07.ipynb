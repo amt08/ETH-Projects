{
 "cells": [
  {
   "cell_type": "markdown",
   "metadata": {},
   "source": [
    "# HW07: Parsing\n",
    "\n",
    "Remember that these homework work as a completion grade. **You can skip one section of this homework.**"
   ]
  },
  {
   "cell_type": "code",
   "execution_count": null,
   "metadata": {},
   "outputs": [],
   "source": [
    "import pandas as pd\n",
    "import nltk\n",
    "df = pd.read_csv('train.csv')\n",
    "\n",
    "df.columns = [\"label\", \"title\", \"lead\"]\n",
    "label_map = {1:\"world\", 2:\"sport\", 3:\"business\", 4:\"sci/tech\"}\n",
    "def replace_label(x):\n",
    "\treturn label_map[x]\n",
    "df[\"label\"] = df[\"label\"].apply(replace_label) \n",
    "df[\"text\"] = df[\"title\"] + \" \" + df[\"lead\"]\n",
    "df = df.sample(n=10000) # # only use 10K datapoints\n",
    "df.head()"
   ]
  },
  {
   "cell_type": "code",
   "execution_count": null,
   "metadata": {},
   "outputs": [],
   "source": [
    "import spacy\n",
    "nlp = spacy.load('en_core_web_sm')\n",
    "\n",
    "#TODO preprocess the corpus using spacy or load the pre-processed corpus\n",
    "def preprocess(text):\n",
    "    return [wd.lemma_.lower() for wd in list(nlp(text)) if not wd.is_punct and not wd.is_stop]\n",
    "\n",
    "df['tokens'] = df['text'].apply(lambda x: preprocess(x))\n",
    "df['processed'] = df['text'].apply(lambda x: nlp(x))"
   ]
  },
  {
   "cell_type": "code",
   "execution_count": null,
   "id": "e38eb13d",
   "metadata": {},
   "outputs": [],
   "source": [
    "df.head()"
   ]
  },
  {
   "cell_type": "markdown",
   "metadata": {},
   "source": [
    "### Information Extraction"
   ]
  },
  {
   "cell_type": "code",
   "execution_count": null,
   "metadata": {},
   "outputs": [],
   "source": [
    "def extract_subject_verb_pairs(sent):\n",
    "    subjs = [word for word in sent if word.dep_ == \"nsubj\"]\n",
    "    # extracting lemmatized words, where head is the verb\n",
    "    pairs = [(word.lemma_.lower(), word.head.lemma_.lower()) for word in subjs]\n",
    "    return pairs\n",
    "\n",
    "##TODO extract the subject-verbs pairs and print the result for the first document\n",
    "df['sbj_vb_pair'] = df['processed'].apply(lambda x: extract_subject_verb_pairs(x))\n",
    "\n",
    "from collections import Counter\n",
    "counter = Counter()\n",
    "\n",
    "for pair in df['sbj_vb_pair']:\n",
    "    counter.update(pair)\n",
    "    \n",
    "# print the result for the first document\n",
    "print(f\"The result for the first document is {df['sbj_vb_pair'].iloc[0]}\")\n",
    "print(\" \")\n",
    "\n",
    "##TODO create a list ranking the most common pairs and print the first 10 items\n",
    "print(\"The most common pairs are: \")\n",
    "for pair, counts in counter.most_common(n=10):\n",
    "    print(pair, counts)"
   ]
  },
  {
   "cell_type": "code",
   "execution_count": null,
   "metadata": {},
   "outputs": [],
   "source": [
    "##TODO do the same for verbs-object pairs ('dobj')\n",
    "def extract_verb_object_pairs(sent):\n",
    "    objs = [w for w in sent if w.dep_ == \"dobj\"]\n",
    "    pairs = [(w.head.lemma_.lower(), w.lemma_.lower()) for w in objs]\n",
    "    return pairs\n",
    "\n",
    "df['vb_obj_pair'] = df['processed'].apply(lambda x: extract_verb_object_pairs(x))\n",
    "\n",
    "##TODO create a list ranking the most common pairs and print the first 10 items\n",
    "counter = Counter()\n",
    "\n",
    "for vb_obj_pair in df['vb_obj_pair']:\n",
    "    counter.update(vb_obj_pair)\n",
    "\n",
    "print(\"The most common pairs are: \")\n",
    "for vb_obj_pair, counts in counter.most_common(n=10):\n",
    "    print(vb_obj_pair, counts)"
   ]
  },
  {
   "cell_type": "code",
   "execution_count": null,
   "metadata": {},
   "outputs": [],
   "source": [
    "##TODO do the same for adjectives-nouns pairs ('amod')\n",
    "##TODO create a list ranking the most common pairs and print the first 10 items\n",
    "\n",
    "def extract_adj_noun_pairs(sent):\n",
    "    adjns = [w for w in sent if w.dep_ == \"amod\"]\n",
    "    pairs = [(w.lemma_.lower(), w.head.lemma_.lower()) for w in adjns]\n",
    "    return pairs\n",
    "\n",
    "df['adj_noun_pair'] = df['processed'].apply(lambda x: extract_adj_noun_pairs(x))\n",
    "\n",
    "##TODO create a list ranking the most common pairs and print the first 10 items\n",
    "\n",
    "counter = Counter()\n",
    "\n",
    "for adj_noun_pair in df['adj_noun_pair']:\n",
    "    counter.update(adj_noun_pair)\n",
    "    \n",
    "print(\"The most common pairs are: \")\n",
    "for adj_noun_pair, counts in counter.most_common(n=10):\n",
    "    print(adj_noun_pair, counts)"
   ]
  },
  {
   "cell_type": "markdown",
   "metadata": {},
   "source": [
    "### Exploring cross label dependencies"
   ]
  },
  {
   "cell_type": "code",
   "execution_count": null,
   "metadata": {},
   "outputs": [],
   "source": [
    "##TODO extract all the subject-verbs and verbs-object pairs for the verb \"win\"\n",
    "def search_verbs(x): return [pair for pair in x if \"win\" in pair]\n",
    "\n",
    "df['sbj_vb_win'] = df['sbj_vb_pair'].apply(lambda x: search_verbs(x))\n",
    "df['vb_obj_win'] = df['vb_obj_pair'].apply(lambda x: search_verbs(x))"
   ]
  },
  {
   "cell_type": "code",
   "execution_count": null,
   "id": "1b9e3ff7",
   "metadata": {},
   "outputs": [],
   "source": [
    "# all subject-verbs pairs for the verb \"win\"\n",
    "[list(set(value)) for value in df.sbj_vb_win.values if len(value) != 0 ]"
   ]
  },
  {
   "cell_type": "code",
   "execution_count": null,
   "id": "90414c9c",
   "metadata": {},
   "outputs": [],
   "source": [
    "# all verb-object pairs for the verb \"win\"\n",
    "[list(set(value)) for value in df.vb_obj_win.values if len(value) != 0 ]"
   ]
  },
  {
   "cell_type": "code",
   "execution_count": null,
   "id": "83191735",
   "metadata": {},
   "outputs": [],
   "source": [
    "def most_common_vb_obj(df, label):\n",
    "    counter = Counter()\n",
    "    \n",
    "    for pair in df[df.label == label]['vb_obj_pair']:\n",
    "        counter.update(pair)\n",
    "    \n",
    "    out = pd.DataFrame()\n",
    "    row = dict()\n",
    "    for pair, counts in counter.most_common():\n",
    "\n",
    "        row['pair'] = pair\n",
    "        row['count'] = counts\n",
    "        out = out.append(row, ignore_index=True)\n",
    "    return out"
   ]
  },
  {
   "cell_type": "code",
   "execution_count": null,
   "id": "46e517db",
   "metadata": {},
   "outputs": [],
   "source": [
    "def most_common_sbj_vb(df, label):\n",
    "    counter = Counter()\n",
    "    \n",
    "    for pair in df[df.label == label]['sbj_vb_pair']:\n",
    "        counter.update(pair)\n",
    "    \n",
    "    out = pd.DataFrame()\n",
    "    row = dict()\n",
    "    for pair, counts in counter.most_common():\n",
    "\n",
    "        row['pair'] = pair\n",
    "        row['count'] = counts\n",
    "        out = out.append(row, ignore_index=True)\n",
    "    return out"
   ]
  },
  {
   "cell_type": "code",
   "execution_count": null,
   "metadata": {},
   "outputs": [],
   "source": [
    "##TODO for each label create a list ranking the most common subject-verbs pairs and one for the most common verbs-object pairs\n",
    "sport_vb_obj = most_common_vb_obj(df, \"sport\")\n",
    "business_vb_obj = most_common_vb_obj(df, \"business\")\n",
    "sci_tech_vb_obj = most_common_vb_obj(df, \"sci/tech\")\n",
    "world_vb_obj = most_common_vb_obj(df, \"world\")\n",
    "\n",
    "sport_sbj_vb = most_common_sbj_vb(df, \"sport\")\n",
    "business_sbj_vb = most_common_sbj_vb(df, \"business\")\n",
    "sci_tech_sbj_vb = most_common_sbj_vb(df, \"sci/tech\")\n",
    "world_sbj_vb = most_common_sbj_vb(df, \"world\")"
   ]
  },
  {
   "cell_type": "code",
   "execution_count": null,
   "id": "fcafe8de",
   "metadata": {},
   "outputs": [],
   "source": [
    "##TODO print the 10 most common pairs for each of the two lists for the labels \"sport\" and \"business\"\n",
    "print(\"Most common verbs-object pairs for the label sport: \")\n",
    "print(sport_vb_obj.head(10))\n",
    "print(\"Most common verbs-object pairs for the label business: \")\n",
    "print(business_vb_obj.head(10))\n",
    "print(\"Most common subject-verbs pairs for the label sport: \")\n",
    "print(sport_sbj_vb.head(10))\n",
    "print(\"Most common subject-verbs pairs for the label business: \")\n",
    "print(business_sbj_vb.head(10))"
   ]
  }
 ],
 "metadata": {
  "kernelspec": {
   "display_name": "Python 3.8.7 ('venv': venv)",
   "language": "python",
   "name": "python3"
  },
  "language_info": {
   "codemirror_mode": {
    "name": "ipython",
    "version": 3
   },
   "file_extension": ".py",
   "mimetype": "text/x-python",
   "name": "python",
   "nbconvert_exporter": "python",
   "pygments_lexer": "ipython3",
   "version": "3.8.7"
  },
  "vscode": {
   "interpreter": {
    "hash": "c46f5ccc24ef453e97fd721763d326d36913f44a8394821f5f9ff49f0aa076c3"
   }
  }
 },
 "nbformat": 4,
 "nbformat_minor": 5
}
